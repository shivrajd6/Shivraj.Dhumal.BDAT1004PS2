{
 "cells": [
  {
   "cell_type": "markdown",
   "id": "376551fb",
   "metadata": {},
   "source": [
    "## Problem Set 2 - BDAT 1004 – Data Programming"
   ]
  },
  {
   "cell_type": "markdown",
   "id": "06efbc3e",
   "metadata": {},
   "source": [
    "### Ans to question 1"
   ]
  },
  {
   "cell_type": "code",
   "execution_count": 1,
   "id": "e5fae2c7",
   "metadata": {},
   "outputs": [],
   "source": [
    "a = 0\n",
    "def b():\n",
    "    global a\n",
    "    a = c(a)\n",
    "def c(a):\n",
    "    return a + 2"
   ]
  },
  {
   "cell_type": "code",
   "execution_count": 2,
   "id": "156c06c6",
   "metadata": {},
   "outputs": [],
   "source": [
    "b()"
   ]
  },
  {
   "cell_type": "code",
   "execution_count": 3,
   "id": "e8d6bc1a",
   "metadata": {},
   "outputs": [],
   "source": [
    "b()"
   ]
  },
  {
   "cell_type": "code",
   "execution_count": 4,
   "id": "7ebce5d4",
   "metadata": {},
   "outputs": [],
   "source": [
    "b()"
   ]
  },
  {
   "cell_type": "code",
   "execution_count": 5,
   "id": "4cc15a8a",
   "metadata": {},
   "outputs": [
    {
     "data": {
      "text/plain": [
       "6"
      ]
     },
     "execution_count": 5,
     "metadata": {},
     "output_type": "execute_result"
    }
   ],
   "source": [
    "a"
   ]
  },
  {
   "cell_type": "markdown",
   "id": "31caccfd",
   "metadata": {},
   "source": [
    "#### After evaluating the last expression a, the value obtained is 6"
   ]
  },
  {
   "cell_type": "markdown",
   "id": "d137fd91",
   "metadata": {},
   "source": [
    "#### Every time the function b is called, it uses the globally declared variable a and is passed to another function c. The job of the function c is to add 2 to the number passed as an argument. So after calling the function b three times, 2 is added thrice to the resulting value starting from 0. The values assigned after every call of b is 2,4, 6 respectively and so the final value of a is 6"
   ]
  },
  {
   "cell_type": "markdown",
   "id": "d439e32d",
   "metadata": {},
   "source": [
    "#### "
   ]
  },
  {
   "cell_type": "markdown",
   "id": "90409b59",
   "metadata": {},
   "source": [
    "### Ans to question 2"
   ]
  },
  {
   "cell_type": "markdown",
   "id": "374d5c8c",
   "metadata": {},
   "source": [
    "#### Modified function named fileLength is as below"
   ]
  },
  {
   "cell_type": "code",
   "execution_count": 6,
   "id": "51d209fc",
   "metadata": {},
   "outputs": [],
   "source": [
    "def file_length(file_name):\n",
    "    file = None\n",
    "    \n",
    "    # try except block to catch the filenotfound error\n",
    "    try:\n",
    "        file = open(file_name)\n",
    "    except FileNotFoundError as e:\n",
    "        print(f\"File {file_name} not found.\")\n",
    "    \n",
    "    if file is not None:\n",
    "        contents = file.read()\n",
    "        file.close()\n",
    "        print(len(contents))"
   ]
  },
  {
   "cell_type": "code",
   "execution_count": 7,
   "id": "350e6521",
   "metadata": {},
   "outputs": [
    {
     "name": "stdout",
     "output_type": "stream",
     "text": [
      "102\n"
     ]
    }
   ],
   "source": [
    "file_length('bloodtype1.txt')"
   ]
  },
  {
   "cell_type": "code",
   "execution_count": 8,
   "id": "a174ab7b",
   "metadata": {},
   "outputs": [
    {
     "name": "stdout",
     "output_type": "stream",
     "text": [
      "File bloodtype.txt not found.\n"
     ]
    }
   ],
   "source": [
    "file_length('bloodtype.txt')"
   ]
  },
  {
   "cell_type": "markdown",
   "id": "28fc8a09",
   "metadata": {},
   "source": [
    "#### "
   ]
  },
  {
   "cell_type": "markdown",
   "id": "49053b03",
   "metadata": {},
   "source": [
    "### Ans to question 3"
   ]
  },
  {
   "cell_type": "code",
   "execution_count": 9,
   "id": "ac455dbb",
   "metadata": {},
   "outputs": [],
   "source": [
    "class Marsupial:\n",
    "    \n",
    "    def __init__(self):\n",
    "        self.pouch = []\n",
    "        \n",
    "    def put_in_pouch(self, thing=None):\n",
    "        if thing is not None:\n",
    "            self.pouch.append(thing)\n",
    "            \n",
    "    def pouch_contents(self):\n",
    "        return self.pouch\n",
    "    \n",
    "    "
   ]
  },
  {
   "cell_type": "code",
   "execution_count": 10,
   "id": "dfdb8074",
   "metadata": {},
   "outputs": [],
   "source": [
    "class Kangaroo(Marsupial):\n",
    "    \n",
    "    def __init__(self, dx, dy):\n",
    "        self.dx = dx\n",
    "        self.dy = dy\n",
    "        super().__init__()\n",
    "        \n",
    "    def __str__(self):\n",
    "        return (f'I am a Kangaroo located at coordinates ({self.dx},{self.dy})')\n",
    "    \n",
    "    def jump(self,dx_add, dy_add):\n",
    "        self.dx += dx_add\n",
    "        self.dy += dy_add"
   ]
  },
  {
   "cell_type": "code",
   "execution_count": 11,
   "id": "c9a0fe05",
   "metadata": {},
   "outputs": [],
   "source": [
    "m = Marsupial()"
   ]
  },
  {
   "cell_type": "code",
   "execution_count": 12,
   "id": "6b4d8b89",
   "metadata": {},
   "outputs": [],
   "source": [
    "m.put_in_pouch('doll')"
   ]
  },
  {
   "cell_type": "code",
   "execution_count": 13,
   "id": "6742eaa3",
   "metadata": {},
   "outputs": [],
   "source": [
    "m.put_in_pouch('firetruck')"
   ]
  },
  {
   "cell_type": "code",
   "execution_count": 14,
   "id": "617b44bc",
   "metadata": {},
   "outputs": [],
   "source": [
    "m.put_in_pouch('kitten')"
   ]
  },
  {
   "cell_type": "code",
   "execution_count": 15,
   "id": "6491c783",
   "metadata": {},
   "outputs": [
    {
     "data": {
      "text/plain": [
       "['doll', 'firetruck', 'kitten']"
      ]
     },
     "execution_count": 15,
     "metadata": {},
     "output_type": "execute_result"
    }
   ],
   "source": [
    "m.pouch_contents()"
   ]
  },
  {
   "cell_type": "code",
   "execution_count": 16,
   "id": "cf4f1047",
   "metadata": {},
   "outputs": [],
   "source": [
    "k = Kangaroo(0,0)"
   ]
  },
  {
   "cell_type": "code",
   "execution_count": 17,
   "id": "b177c90b",
   "metadata": {},
   "outputs": [
    {
     "name": "stdout",
     "output_type": "stream",
     "text": [
      "I am a Kangaroo located at coordinates (0,0)\n"
     ]
    }
   ],
   "source": [
    "print(k)"
   ]
  },
  {
   "cell_type": "code",
   "execution_count": 18,
   "id": "f5a9ac15",
   "metadata": {},
   "outputs": [],
   "source": [
    "k.jump(1,0)"
   ]
  },
  {
   "cell_type": "code",
   "execution_count": 19,
   "id": "188315ec",
   "metadata": {},
   "outputs": [],
   "source": [
    "k.jump(1,0)"
   ]
  },
  {
   "cell_type": "code",
   "execution_count": 20,
   "id": "4d20e61c",
   "metadata": {},
   "outputs": [],
   "source": [
    "k.jump(1,0)"
   ]
  },
  {
   "cell_type": "code",
   "execution_count": 21,
   "id": "0227b06e",
   "metadata": {},
   "outputs": [
    {
     "name": "stdout",
     "output_type": "stream",
     "text": [
      "I am a Kangaroo located at coordinates (3,0)\n"
     ]
    }
   ],
   "source": [
    "print(k)"
   ]
  },
  {
   "cell_type": "markdown",
   "id": "882664aa",
   "metadata": {},
   "source": [
    "#### "
   ]
  },
  {
   "cell_type": "markdown",
   "id": "f6145915",
   "metadata": {},
   "source": [
    "### Ans to question 4"
   ]
  },
  {
   "cell_type": "code",
   "execution_count": 22,
   "id": "64a1d675",
   "metadata": {},
   "outputs": [],
   "source": [
    "def collatz(num):\n",
    "    \n",
    "    num = int(num)\n",
    "    print(num)\n",
    "    \n",
    "    if num == 1:\n",
    "        return None\n",
    "    elif num % 2 == 0:\n",
    "        num = num / 2\n",
    "    else:\n",
    "        num = 3*num + 1\n",
    "        \n",
    "    collatz(num)"
   ]
  },
  {
   "cell_type": "code",
   "execution_count": 23,
   "id": "d690c2ff",
   "metadata": {},
   "outputs": [
    {
     "name": "stdout",
     "output_type": "stream",
     "text": [
      "1\n"
     ]
    }
   ],
   "source": [
    "collatz(1)"
   ]
  },
  {
   "cell_type": "code",
   "execution_count": 24,
   "id": "7555c971",
   "metadata": {},
   "outputs": [
    {
     "name": "stdout",
     "output_type": "stream",
     "text": [
      "10\n",
      "5\n",
      "16\n",
      "8\n",
      "4\n",
      "2\n",
      "1\n"
     ]
    }
   ],
   "source": [
    "collatz(10)"
   ]
  },
  {
   "cell_type": "markdown",
   "id": "5d6e1937",
   "metadata": {},
   "source": [
    "#### "
   ]
  },
  {
   "cell_type": "markdown",
   "id": "eb147859",
   "metadata": {},
   "source": [
    "### Answer to question 5"
   ]
  },
  {
   "cell_type": "code",
   "execution_count": 25,
   "id": "b8ba11d1",
   "metadata": {},
   "outputs": [],
   "source": [
    "def binary(num, ans=''):\n",
    "    \n",
    "    #print(f'ans is: {ans}')\n",
    "    quot = int(num / 2)\n",
    "    rem = num % 2\n",
    "    num = quot\n",
    "    \n",
    "    ans = ans + str(rem)\n",
    "    \n",
    "    #print(f\"answer unreversed: {ans}\")\n",
    "    if quot == 0:\n",
    "        print(f\"answer: {ans[::-1]}\")\n",
    "        return None\n",
    "    \n",
    "    binary(num, ans)"
   ]
  },
  {
   "cell_type": "code",
   "execution_count": 26,
   "id": "e2cd7fd3",
   "metadata": {},
   "outputs": [
    {
     "name": "stdout",
     "output_type": "stream",
     "text": [
      "answer: 0\n"
     ]
    }
   ],
   "source": [
    "binary(0)"
   ]
  },
  {
   "cell_type": "code",
   "execution_count": 27,
   "id": "f88ff5a3",
   "metadata": {},
   "outputs": [
    {
     "name": "stdout",
     "output_type": "stream",
     "text": [
      "answer: 1\n"
     ]
    }
   ],
   "source": [
    "binary(1)"
   ]
  },
  {
   "cell_type": "code",
   "execution_count": 28,
   "id": "928bfbec",
   "metadata": {},
   "outputs": [
    {
     "name": "stdout",
     "output_type": "stream",
     "text": [
      "answer: 11\n"
     ]
    }
   ],
   "source": [
    "binary(3)"
   ]
  },
  {
   "cell_type": "code",
   "execution_count": 29,
   "id": "0244460b",
   "metadata": {},
   "outputs": [
    {
     "name": "stdout",
     "output_type": "stream",
     "text": [
      "answer: 1001\n"
     ]
    }
   ],
   "source": [
    "binary(9)"
   ]
  },
  {
   "cell_type": "markdown",
   "id": "52609eb2",
   "metadata": {},
   "source": [
    "#### "
   ]
  },
  {
   "cell_type": "markdown",
   "id": "0f90a1ee",
   "metadata": {},
   "source": [
    "### Ans to question 6"
   ]
  },
  {
   "cell_type": "code",
   "execution_count": 30,
   "id": "9423ad64",
   "metadata": {},
   "outputs": [],
   "source": [
    "from html.parser import HTMLParser"
   ]
  },
  {
   "cell_type": "code",
   "execution_count": 31,
   "id": "b79723ed",
   "metadata": {},
   "outputs": [],
   "source": [
    "class HeadingParser(HTMLParser):\n",
    "    \n",
    "    def __init__(self):\n",
    "        super().__init__()\n",
    "        self.current_start_tag = ''\n",
    "        self.current_data = ''\n",
    "        self.current_end_tag = ''\n",
    "        self.tag_indents = {'h1':'','h2':' ','h3':'  ','h4':'   ','h5':'    ','h6':'     '}\n",
    "    \n",
    "    def handle_starttag(self, tag, attrs):\n",
    "#         print(\"Start tag:\", tag)\n",
    "#         for attr in attrs:\n",
    "#             print(\"     attr:\", attr)\n",
    "        self.current_start_tag = tag\n",
    "            \n",
    "    def handle_endtag(self, tag):\n",
    "#         print(\"End tag  :\", tag)\n",
    "        self.current_end_tag = tag\n",
    "        if self.current_start_tag in ['h1','h2','h3','h4','h5','h6'] and self.current_start_tag == self.current_end_tag:\n",
    "            print(f\"{self.tag_indents[self.current_start_tag]}{self.current_data}\")\n",
    "        \n",
    "    def handle_data(self, data):\n",
    "#         print(\"Encountered some data  :\", data)\n",
    "        self.current_data = data"
   ]
  },
  {
   "cell_type": "code",
   "execution_count": 32,
   "id": "d7b795c2",
   "metadata": {},
   "outputs": [],
   "source": [
    "infile = open('w3c.html')\n",
    "content = infile.read()\n",
    "infile.close()"
   ]
  },
  {
   "cell_type": "code",
   "execution_count": 33,
   "id": "ad4514c4",
   "metadata": {},
   "outputs": [],
   "source": [
    "hp = HeadingParser()"
   ]
  },
  {
   "cell_type": "code",
   "execution_count": 34,
   "id": "2c7884e1",
   "metadata": {},
   "outputs": [
    {
     "data": {
      "text/plain": [
       "'<!DOCTYPE html>\\n<html lang=\"en\">\\n\\n<head>\\n  <meta name=\"description\" content=\"Webpage description goes here\" />\\n  <meta charset=\"utf-8\">\\n  <title>Change_me</title>\\n  <meta name=\"viewport\" content=\"width=device-width, initial-scale=1\">\\n  <meta name=\"author\" content=\"\">\\n  <link rel=\"stylesheet\" href=\"css/style.css\">\\n</head>\\n\\n<body>\\n  \\n  <h1>W3C Mission</h1>\\n  <h2>Principles</h2>\\n \\n\\n\\n</body>\\n</html>'"
      ]
     },
     "execution_count": 34,
     "metadata": {},
     "output_type": "execute_result"
    }
   ],
   "source": [
    "content"
   ]
  },
  {
   "cell_type": "code",
   "execution_count": 35,
   "id": "d6a1a706",
   "metadata": {},
   "outputs": [
    {
     "name": "stdout",
     "output_type": "stream",
     "text": [
      "W3C Mission\n",
      " Principles\n"
     ]
    }
   ],
   "source": [
    "hp.feed(content)"
   ]
  },
  {
   "cell_type": "markdown",
   "id": "9180ce70",
   "metadata": {},
   "source": [
    "#### "
   ]
  },
  {
   "cell_type": "markdown",
   "id": "f147f9c9",
   "metadata": {},
   "source": [
    "### Ans to question 7"
   ]
  },
  {
   "cell_type": "code",
   "execution_count": 36,
   "id": "f1dd1b2d",
   "metadata": {},
   "outputs": [],
   "source": [
    "import requests\n",
    "from urllib.parse import urlparse, urljoin\n",
    "from html.parser import HTMLParser"
   ]
  },
  {
   "cell_type": "code",
   "execution_count": 37,
   "id": "03c051f2",
   "metadata": {},
   "outputs": [],
   "source": [
    "class WebDirParser(HTMLParser):\n",
    "    def __init__(self):\n",
    "        super().__init__()\n",
    "        self.links = []\n",
    "        self.full_links = []\n",
    "        self.full_links_indent = []\n",
    "        \n",
    "    def handle_starttag(self, tag, attrs):\n",
    "        if tag == 'a':\n",
    "            for attr in attrs:\n",
    "                if attr[0] == 'href' and 'mailto' not in attr[1]:\n",
    "                    if attr[1] not in self.links:\n",
    "                        self.links.append(attr[1])\n",
    "                        \n",
    "    def add_to_links_list(self, indent, url):\n",
    "        if url not in self.full_links:\n",
    "            self.full_links.append(url)\n",
    "            self.full_links_indent.append(indent)\n",
    "            return True\n",
    "        else:\n",
    "            return False"
   ]
  },
  {
   "cell_type": "code",
   "execution_count": 38,
   "id": "72399d6f",
   "metadata": {},
   "outputs": [],
   "source": [
    "parser = WebDirParser()"
   ]
  },
  {
   "cell_type": "code",
   "execution_count": 39,
   "id": "07546560",
   "metadata": {},
   "outputs": [],
   "source": [
    "def webdir(url, depth, indent, unique_links=list()):\n",
    "    if depth < 0:\n",
    "        return None\n",
    "    \n",
    "    response = requests.get(url)\n",
    "    spaces = '' if indent == 0 else ' ' * indent\n",
    "    print(f'{spaces}{url}')\n",
    "    \n",
    "    parser.feed(response.text)\n",
    "    \n",
    "    for link in parser.links:\n",
    "        if not link.endswith('.html'):\n",
    "            continue\n",
    "        if 'http' not in link:\n",
    "            fullurl = urljoin(url, link)\n",
    "        else:\n",
    "            fullurl = url\n",
    "        \n",
    "        if fullurl not in unique_links:\n",
    "            unique_links.append(fullurl)\n",
    "    \n",
    "    for unique_link in unique_links:\n",
    "        decision = parser.add_to_links_list(indent, unique_link)\n",
    "        if decision == True:\n",
    "            print(f'{spaces}{unique_link}')\n",
    "            webdir(unique_link, depth - 1, indent + 1, unique_links)"
   ]
  },
  {
   "cell_type": "code",
   "execution_count": 40,
   "id": "af1efb87",
   "metadata": {},
   "outputs": [
    {
     "name": "stdout",
     "output_type": "stream",
     "text": [
      "http://reed.cs.depaul.edu/lperkovic/csc242\n",
      "http://reed.cs.depaul.edu/lperkovic/homeworks/Winter2020/FinalPractice.html\n",
      " http://reed.cs.depaul.edu/lperkovic/homeworks/Winter2020/FinalPractice.html\n",
      " http://reed.cs.depaul.edu/lperkovic/homeworks/Winter2020/FinalPractice2.html\n",
      "  http://reed.cs.depaul.edu/lperkovic/homeworks/Winter2020/FinalPractice2.html\n",
      "  http://reed.cs.depaul.edu/lperkovic/syllabus.html\n",
      "  http://reed.cs.depaul.edu/lperkovic/csc242\n",
      "  http://reed.cs.depaul.edu/lperkovic/homeworks/Homework1.html\n",
      "  http://reed.cs.depaul.edu/lperkovic/homeworks/Homework2.html\n",
      "  http://reed.cs.depaul.edu/lperkovic/homeworks/Homework3.html\n",
      "  http://reed.cs.depaul.edu/lperkovic/homeworks/Homework4.html\n",
      "  http://reed.cs.depaul.edu/lperkovic/homeworks/Homework5.html\n",
      "  http://reed.cs.depaul.edu/lperkovic/homeworks/Homework6.html\n",
      "  http://reed.cs.depaul.edu/lperkovic/homeworks/Homework7.html\n",
      "  http://reed.cs.depaul.edu/lperkovic/homeworks/Homework8.html\n",
      "  http://reed.cs.depaul.edu/lperkovic/homeworks/Winter2020/homeworks/Winter2020/FinalPractice.html\n",
      "  http://reed.cs.depaul.edu/lperkovic/homeworks/Winter2020/homeworks/Winter2020/FinalPractice2.html\n",
      "  http://reed.cs.depaul.edu/lperkovic/homeworks/Winter2020/syllabus.html\n",
      "  http://reed.cs.depaul.edu/lperkovic/homeworks/Winter2020/homeworks/Homework1.html\n",
      "  http://reed.cs.depaul.edu/lperkovic/homeworks/Winter2020/homeworks/Homework2.html\n",
      "  http://reed.cs.depaul.edu/lperkovic/homeworks/Winter2020/homeworks/Homework3.html\n",
      "  http://reed.cs.depaul.edu/lperkovic/homeworks/Winter2020/homeworks/Homework4.html\n",
      "  http://reed.cs.depaul.edu/lperkovic/homeworks/Winter2020/homeworks/Homework5.html\n",
      "  http://reed.cs.depaul.edu/lperkovic/homeworks/Winter2020/homeworks/Homework6.html\n",
      "  http://reed.cs.depaul.edu/lperkovic/homeworks/Winter2020/homeworks/Homework7.html\n",
      "  http://reed.cs.depaul.edu/lperkovic/homeworks/Winter2020/homeworks/Homework8.html\n"
     ]
    }
   ],
   "source": [
    "webdir('http://reed.cs.depaul.edu/lperkovic/csc242',2,0)"
   ]
  },
  {
   "cell_type": "markdown",
   "id": "e366f59b",
   "metadata": {},
   "source": [
    "#### "
   ]
  },
  {
   "cell_type": "markdown",
   "id": "fc778173",
   "metadata": {},
   "source": [
    "### Ans to question 8"
   ]
  },
  {
   "cell_type": "markdown",
   "id": "6b2eceaa",
   "metadata": {},
   "source": [
    "##### a) All the temperature data\n",
    "SELECT [Temperature (C)] from climatedata"
   ]
  },
  {
   "cell_type": "markdown",
   "id": "20931589",
   "metadata": {},
   "source": [
    "##### b) All the cities, but without repetition.\n",
    "SELECT distinct(City) from climatedata"
   ]
  },
  {
   "cell_type": "markdown",
   "id": "d1499309",
   "metadata": {},
   "source": [
    "##### c) All the records for India.\n",
    "SELECT * from climatedata where Country='India'"
   ]
  },
  {
   "cell_type": "markdown",
   "id": "b9df96fd",
   "metadata": {},
   "source": [
    "##### d) All the Fall records\n",
    "SELECT * from climatedata where Season='Fall'"
   ]
  },
  {
   "cell_type": "markdown",
   "id": "c5ac21f5",
   "metadata": {},
   "source": [
    "##### e) The city, country, and season for which the average rainfall is between 200 and 400 millimeters.\n",
    "SELECT City, Country, Season from climatedata where [Rainfall (mm)] > 200 and [Rainfall (mm)] < 400"
   ]
  },
  {
   "cell_type": "markdown",
   "id": "7a2af0ce",
   "metadata": {},
   "source": [
    "##### f) The city and country for which the average Fall temperature is above 20 degrees, in increasing temperature order\n",
    "SELECT City, Country from climatedata where season = 'Fall' and [Temperature (C)] > 20 order by [Temperature (C)] desc"
   ]
  },
  {
   "cell_type": "markdown",
   "id": "8b5c3881",
   "metadata": {},
   "source": [
    "##### g) The total annual rainfall for Cairo\n",
    "SELECT sum([Rainfall (mm)]) from climatedata where City = 'Cairo'"
   ]
  },
  {
   "cell_type": "markdown",
   "id": "5159c854",
   "metadata": {},
   "source": [
    "##### h) The total rainfall for each season\n",
    "SELECT sum([Rainfall (mm)]) as total_rainfall, season from climatedata group by [Season]"
   ]
  },
  {
   "cell_type": "markdown",
   "id": "7906b964",
   "metadata": {},
   "source": [
    "#### "
   ]
  },
  {
   "cell_type": "markdown",
   "id": "af1ba020",
   "metadata": {},
   "source": [
    "### Ans to question 9"
   ]
  },
  {
   "cell_type": "code",
   "execution_count": 41,
   "id": "6d1a5ced",
   "metadata": {},
   "outputs": [],
   "source": [
    "words = ['The', 'quick', 'brown', 'fox', 'jumps', 'over', 'the', 'lazy', 'dog']"
   ]
  },
  {
   "cell_type": "markdown",
   "id": "7c02afec",
   "metadata": {},
   "source": [
    "##### a)"
   ]
  },
  {
   "cell_type": "code",
   "execution_count": 42,
   "id": "ba3bb6b1",
   "metadata": {},
   "outputs": [
    {
     "data": {
      "text/plain": [
       "['THE', 'QUICK', 'BROWN', 'FOX', 'JUMPS', 'OVER', 'THE', 'LAZY', 'DOG']"
      ]
     },
     "execution_count": 42,
     "metadata": {},
     "output_type": "execute_result"
    }
   ],
   "source": [
    "new_words = [word.upper() for word in words]\n",
    "new_words"
   ]
  },
  {
   "cell_type": "markdown",
   "id": "0c6a112e",
   "metadata": {},
   "source": [
    "#### b)"
   ]
  },
  {
   "cell_type": "code",
   "execution_count": 43,
   "id": "243cac8b",
   "metadata": {},
   "outputs": [
    {
     "data": {
      "text/plain": [
       "['the', 'quick', 'brown', 'fox', 'jumps', 'over', 'the', 'lazy', 'dog']"
      ]
     },
     "execution_count": 43,
     "metadata": {},
     "output_type": "execute_result"
    }
   ],
   "source": [
    "new_words = [word.lower() for word in words]\n",
    "new_words"
   ]
  },
  {
   "cell_type": "markdown",
   "id": "b4449795",
   "metadata": {},
   "source": [
    "#### c)"
   ]
  },
  {
   "cell_type": "code",
   "execution_count": 44,
   "id": "5f7b2111",
   "metadata": {},
   "outputs": [
    {
     "data": {
      "text/plain": [
       "[3, 5, 5, 3, 5, 4, 3, 4, 3]"
      ]
     },
     "execution_count": 44,
     "metadata": {},
     "output_type": "execute_result"
    }
   ],
   "source": [
    "new_words = [len(word) for word in words]\n",
    "new_words"
   ]
  },
  {
   "cell_type": "markdown",
   "id": "03f4f414",
   "metadata": {},
   "source": [
    "#### d)"
   ]
  },
  {
   "cell_type": "code",
   "execution_count": 45,
   "id": "474a9d64",
   "metadata": {},
   "outputs": [
    {
     "data": {
      "text/plain": [
       "[['THE', 'the', 3],\n",
       " ['QUICK', 'quick', 5],\n",
       " ['BROWN', 'brown', 5],\n",
       " ['FOX', 'fox', 3],\n",
       " ['JUMPS', 'jumps', 5],\n",
       " ['OVER', 'over', 4],\n",
       " ['THE', 'the', 3],\n",
       " ['LAZY', 'lazy', 4],\n",
       " ['DOG', 'dog', 3]]"
      ]
     },
     "execution_count": 45,
     "metadata": {},
     "output_type": "execute_result"
    }
   ],
   "source": [
    "new_words = [[word.upper(),word.lower(), len(word)] for word in words]\n",
    "new_words"
   ]
  },
  {
   "cell_type": "markdown",
   "id": "71e7df3b",
   "metadata": {},
   "source": [
    "#### e)"
   ]
  },
  {
   "cell_type": "code",
   "execution_count": 46,
   "id": "608717d8",
   "metadata": {},
   "outputs": [
    {
     "data": {
      "text/plain": [
       "['quick', 'brown', 'jumps', 'over', 'lazy']"
      ]
     },
     "execution_count": 46,
     "metadata": {},
     "output_type": "execute_result"
    }
   ],
   "source": [
    "new_words = [word for word in words if len(word) > 3]\n",
    "new_words"
   ]
  },
  {
   "cell_type": "markdown",
   "id": "7205e922",
   "metadata": {},
   "source": [
    "#### "
   ]
  }
 ],
 "metadata": {
  "kernelspec": {
   "display_name": "Python 3 (ipykernel)",
   "language": "python",
   "name": "python3"
  },
  "language_info": {
   "codemirror_mode": {
    "name": "ipython",
    "version": 3
   },
   "file_extension": ".py",
   "mimetype": "text/x-python",
   "name": "python",
   "nbconvert_exporter": "python",
   "pygments_lexer": "ipython3",
   "version": "3.9.13"
  }
 },
 "nbformat": 4,
 "nbformat_minor": 5
}
